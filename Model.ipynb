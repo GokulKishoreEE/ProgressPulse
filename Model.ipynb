{
  "nbformat": 4,
  "nbformat_minor": 0,
  "metadata": {
    "colab": {
      "provenance": [],
      "gpuType": "V28"
    },
    "kernelspec": {
      "name": "python3",
      "display_name": "Python 3"
    },
    "language_info": {
      "name": "python"
    },
    "accelerator": "TPU"
  },
  "cells": [
    {
      "cell_type": "code",
      "source": [
        "import pandas as pd\n",
        "data  = pd.read_csv('../content/drive/MyDrive/ML Project/Progresspulse Data.csv')"
      ],
      "metadata": {
        "id": "6MMoaAAGDF5I"
      },
      "execution_count": 43,
      "outputs": []
    },
    {
      "cell_type": "code",
      "source": [
        "data.columns"
      ],
      "metadata": {
        "id": "hvodENlBElzw",
        "colab": {
          "base_uri": "https://localhost:8080/"
        },
        "outputId": "80ae5295-dad3-4bbb-cf9c-bde81c0a6ac7"
      },
      "execution_count": 44,
      "outputs": [
        {
          "output_type": "execute_result",
          "data": {
            "text/plain": [
              "Index(['Email Address', 'College Name', 'Department', 'Level Of Study',\n",
              "       'Current year of study', 'CGPA', 'Credits', 'ExtraCurricular',\n",
              "       'Projects', 'Self Study', 'Engagement', 'Assignment',\n",
              "       'OutputPerformance', 'Contribution'],\n",
              "      dtype='object')"
            ]
          },
          "metadata": {},
          "execution_count": 44
        }
      ]
    },
    {
      "cell_type": "code",
      "source": [
        "k = pd.DataFrame()\n",
        "k = data[['CGPA', 'Credits','ExtraCurricular', 'Projects', 'Self Study', 'Engagement', 'Assignment','Contribution','OutputPerformance']]\n",
        "k.corr(method='pearson',min_periods=9)['OutputPerformance']"
      ],
      "metadata": {
        "id": "gQDTJKbOFf2q",
        "colab": {
          "base_uri": "https://localhost:8080/",
          "height": 366
        },
        "outputId": "b0a5362c-df12-40ba-8c2f-9aa975e65f03"
      },
      "execution_count": 45,
      "outputs": [
        {
          "output_type": "execute_result",
          "data": {
            "text/plain": [
              "CGPA                 0.117173\n",
              "Credits             -0.262921\n",
              "ExtraCurricular     -0.038675\n",
              "Projects            -0.081889\n",
              "Self Study           0.111683\n",
              "Engagement           0.696361\n",
              "Assignment           0.433251\n",
              "Contribution         0.211144\n",
              "OutputPerformance    1.000000\n",
              "Name: OutputPerformance, dtype: float64"
            ],
            "text/html": [
              "<div>\n",
              "<style scoped>\n",
              "    .dataframe tbody tr th:only-of-type {\n",
              "        vertical-align: middle;\n",
              "    }\n",
              "\n",
              "    .dataframe tbody tr th {\n",
              "        vertical-align: top;\n",
              "    }\n",
              "\n",
              "    .dataframe thead th {\n",
              "        text-align: right;\n",
              "    }\n",
              "</style>\n",
              "<table border=\"1\" class=\"dataframe\">\n",
              "  <thead>\n",
              "    <tr style=\"text-align: right;\">\n",
              "      <th></th>\n",
              "      <th>OutputPerformance</th>\n",
              "    </tr>\n",
              "  </thead>\n",
              "  <tbody>\n",
              "    <tr>\n",
              "      <th>CGPA</th>\n",
              "      <td>0.117173</td>\n",
              "    </tr>\n",
              "    <tr>\n",
              "      <th>Credits</th>\n",
              "      <td>-0.262921</td>\n",
              "    </tr>\n",
              "    <tr>\n",
              "      <th>ExtraCurricular</th>\n",
              "      <td>-0.038675</td>\n",
              "    </tr>\n",
              "    <tr>\n",
              "      <th>Projects</th>\n",
              "      <td>-0.081889</td>\n",
              "    </tr>\n",
              "    <tr>\n",
              "      <th>Self Study</th>\n",
              "      <td>0.111683</td>\n",
              "    </tr>\n",
              "    <tr>\n",
              "      <th>Engagement</th>\n",
              "      <td>0.696361</td>\n",
              "    </tr>\n",
              "    <tr>\n",
              "      <th>Assignment</th>\n",
              "      <td>0.433251</td>\n",
              "    </tr>\n",
              "    <tr>\n",
              "      <th>Contribution</th>\n",
              "      <td>0.211144</td>\n",
              "    </tr>\n",
              "    <tr>\n",
              "      <th>OutputPerformance</th>\n",
              "      <td>1.000000</td>\n",
              "    </tr>\n",
              "  </tbody>\n",
              "</table>\n",
              "</div><br><label><b>dtype:</b> float64</label>"
            ]
          },
          "metadata": {},
          "execution_count": 45
        }
      ]
    },
    {
      "cell_type": "code",
      "source": [
        "feat = ['CGPA', 'Credits',\n",
        "    'ExtraCurricular', 'Projects', 'Self Study', 'Engagement', 'Assignment',\n",
        "    'Contribution']\n",
        "X = data[feat]\n",
        "y = data['OutputPerformance']\n",
        "import seaborn as sns\n",
        "import numpy as np\n",
        "import sklearn\n",
        "from sklearn.model_selection import train_test_split\n",
        "train_X,val_X,train_y,val_y = train_test_split(X,y,test_size=0.48)\n",
        "from sklearn.ensemble import RandomForestClassifier,RandomForestRegressor\n",
        "from sklearn.tree import DecisionTreeClassifier,DecisionTreeRegressor\n",
        "from sklearn.linear_model import LogisticRegression\n",
        "from sklearn.metrics import mean_absolute_error,confusion_matrix, make_scorer, accuracy_score, recall_score, f1_score\n",
        "from sklearn.neighbors import KNeighborsClassifier"
      ],
      "metadata": {
        "id": "4Z2mLIRGGKB0"
      },
      "execution_count": 46,
      "outputs": []
    },
    {
      "cell_type": "code",
      "source": [
        "print('sklearn',sklearn.__version__)\n",
        "print('pandas',pd.__version__)\n",
        "print('numpy',np.__version__)\n",
        "print('seaborn',sns.__version__)"
      ],
      "metadata": {
        "id": "-tYGZAknNR9z",
        "colab": {
          "base_uri": "https://localhost:8080/"
        },
        "outputId": "e5be66cb-b6d8-4e7a-90df-560282f30f62"
      },
      "execution_count": 47,
      "outputs": [
        {
          "output_type": "stream",
          "name": "stdout",
          "text": [
            "sklearn 1.6.1\n",
            "pandas 2.2.2\n",
            "numpy 2.0.2\n",
            "seaborn 0.13.2\n"
          ]
        }
      ]
    },
    {
      "cell_type": "code",
      "source": [
        "model = {'RandomForest Classifier' : RandomForestClassifier(max_depth=212,n_estimators=500),'Decision Tree Classifier' : DecisionTreeClassifier(splitter='best',random_state=1),'Logistic Regression' : LogisticRegression(random_state=289),'RandomForest Regressor' : RandomForestRegressor(criterion='absolute_error'),'Decision Tree Regressor' : DecisionTreeRegressor(random_state=289),'K Nearest Classifier' : KNeighborsClassifier(n_neighbors=11)}\n",
        "for i in range(len(list(model))):\n",
        "  mdls = list(model.values())[i]\n",
        "  mdls.fit(train_X,train_y)\n",
        "  train_pred_y = mdls.predict(train_X)\n",
        "  pred_y = mdls.predict(val_X)\n",
        "  me_err = mean_absolute_error(val_y,pred_y)\n",
        "  print(list(model.keys())[i])\n",
        "  print('mae ' ,me_err )\n",
        "  print('-'*15)\n"
      ],
      "metadata": {
        "id": "sZk-JMdHlHS_",
        "colab": {
          "base_uri": "https://localhost:8080/"
        },
        "outputId": "0ee26bfa-dd2a-4338-a13b-a3b7e66cf7f8"
      },
      "execution_count": 48,
      "outputs": [
        {
          "output_type": "stream",
          "name": "stdout",
          "text": [
            "RandomForest Classifier\n",
            "mae  1.411764705882353\n",
            "---------------\n",
            "Decision Tree Classifier\n",
            "mae  1.8823529411764706\n",
            "---------------\n",
            "Logistic Regression\n",
            "mae  1.7058823529411764\n",
            "---------------\n"
          ]
        },
        {
          "output_type": "stream",
          "name": "stderr",
          "text": [
            "/usr/local/lib/python3.11/dist-packages/sklearn/linear_model/_logistic.py:465: ConvergenceWarning: lbfgs failed to converge (status=1):\n",
            "STOP: TOTAL NO. OF ITERATIONS REACHED LIMIT.\n",
            "\n",
            "Increase the number of iterations (max_iter) or scale the data as shown in:\n",
            "    https://scikit-learn.org/stable/modules/preprocessing.html\n",
            "Please also refer to the documentation for alternative solver options:\n",
            "    https://scikit-learn.org/stable/modules/linear_model.html#logistic-regression\n",
            "  n_iter_i = _check_optimize_result(\n"
          ]
        },
        {
          "output_type": "stream",
          "name": "stdout",
          "text": [
            "RandomForest Regressor\n",
            "mae  1.6370588235294117\n",
            "---------------\n",
            "Decision Tree Regressor\n",
            "mae  1.8823529411764706\n",
            "---------------\n",
            "K Nearest Classifier\n",
            "mae  2.176470588235294\n",
            "---------------\n"
          ]
        }
      ]
    },
    {
      "cell_type": "code",
      "source": [
        "param_space = {\n",
        "    'C': (1e-6, 1e+6, 'log-uniform'),\n",
        "    'gamma': (1e-6, 1e+1, 'log-uniform'),\n",
        "    'degree': (1, 8),  # integer valued parameter\n",
        "    'kernel': ['linear', 'poly', 'rbf'],  # categorical parameter\n",
        "}"
      ],
      "metadata": {
        "id": "YIirlxElyrBg"
      },
      "execution_count": 49,
      "outputs": []
    },
    {
      "cell_type": "code",
      "source": [
        "pip install scikit-optimize"
      ],
      "metadata": {
        "colab": {
          "base_uri": "https://localhost:8080/"
        },
        "id": "Aei05liczIYu",
        "outputId": "34f81734-b50d-4232-e9b9-5c031b364e45"
      },
      "execution_count": 50,
      "outputs": [
        {
          "output_type": "stream",
          "name": "stdout",
          "text": [
            "Requirement already satisfied: scikit-optimize in /usr/local/lib/python3.11/dist-packages (0.10.2)\n",
            "Requirement already satisfied: joblib>=0.11 in /usr/local/lib/python3.11/dist-packages (from scikit-optimize) (1.5.1)\n",
            "Requirement already satisfied: pyaml>=16.9 in /usr/local/lib/python3.11/dist-packages (from scikit-optimize) (25.7.0)\n",
            "Requirement already satisfied: numpy>=1.20.3 in /usr/local/lib/python3.11/dist-packages (from scikit-optimize) (2.0.2)\n",
            "Requirement already satisfied: scipy>=1.1.0 in /usr/local/lib/python3.11/dist-packages (from scikit-optimize) (1.16.0)\n",
            "Requirement already satisfied: scikit-learn>=1.0.0 in /usr/local/lib/python3.11/dist-packages (from scikit-optimize) (1.6.1)\n",
            "Requirement already satisfied: packaging>=21.3 in /usr/local/lib/python3.11/dist-packages (from scikit-optimize) (25.0)\n",
            "Requirement already satisfied: PyYAML in /usr/local/lib/python3.11/dist-packages (from pyaml>=16.9->scikit-optimize) (6.0.2)\n",
            "Requirement already satisfied: threadpoolctl>=3.1.0 in /usr/local/lib/python3.11/dist-packages (from scikit-learn>=1.0.0->scikit-optimize) (3.6.0)\n"
          ]
        }
      ]
    },
    {
      "cell_type": "code",
      "source": [
        "from skopt import BayesSearchCV\n",
        "from sklearn.svm import SVC\n",
        "opt = BayesSearchCV(\n",
        "    SVC(),\n",
        "    param_space,\n",
        "    n_iter=10\n",
        ")"
      ],
      "metadata": {
        "id": "IiWlD4aJytJQ"
      },
      "execution_count": 51,
      "outputs": []
    },
    {
      "cell_type": "code",
      "source": [
        "opt.fit(train_X, train_y)\n",
        "\n",
        "# Get best hyperparameters\n",
        "best_params = opt.best_params_\n"
      ],
      "metadata": {
        "colab": {
          "base_uri": "https://localhost:8080/"
        },
        "id": "ewACw5Uh0m7V",
        "outputId": "fe8ca523-b200-4795-92b8-98f0baa7e57e"
      },
      "execution_count": 52,
      "outputs": [
        {
          "output_type": "stream",
          "name": "stderr",
          "text": [
            "/usr/local/lib/python3.11/dist-packages/sklearn/model_selection/_split.py:805: UserWarning: The least populated class in y has only 1 members, which is less than n_splits=5.\n",
            "  warnings.warn(\n",
            "/usr/local/lib/python3.11/dist-packages/sklearn/model_selection/_split.py:805: UserWarning: The least populated class in y has only 1 members, which is less than n_splits=5.\n",
            "  warnings.warn(\n",
            "/usr/local/lib/python3.11/dist-packages/sklearn/model_selection/_split.py:805: UserWarning: The least populated class in y has only 1 members, which is less than n_splits=5.\n",
            "  warnings.warn(\n",
            "/usr/local/lib/python3.11/dist-packages/sklearn/model_selection/_split.py:805: UserWarning: The least populated class in y has only 1 members, which is less than n_splits=5.\n",
            "  warnings.warn(\n",
            "/usr/local/lib/python3.11/dist-packages/sklearn/model_selection/_split.py:805: UserWarning: The least populated class in y has only 1 members, which is less than n_splits=5.\n",
            "  warnings.warn(\n",
            "/usr/local/lib/python3.11/dist-packages/sklearn/model_selection/_split.py:805: UserWarning: The least populated class in y has only 1 members, which is less than n_splits=5.\n",
            "  warnings.warn(\n",
            "/usr/local/lib/python3.11/dist-packages/sklearn/model_selection/_split.py:805: UserWarning: The least populated class in y has only 1 members, which is less than n_splits=5.\n",
            "  warnings.warn(\n",
            "/usr/local/lib/python3.11/dist-packages/sklearn/model_selection/_split.py:805: UserWarning: The least populated class in y has only 1 members, which is less than n_splits=5.\n",
            "  warnings.warn(\n",
            "/usr/local/lib/python3.11/dist-packages/sklearn/model_selection/_split.py:805: UserWarning: The least populated class in y has only 1 members, which is less than n_splits=5.\n",
            "  warnings.warn(\n",
            "/usr/local/lib/python3.11/dist-packages/sklearn/model_selection/_split.py:805: UserWarning: The least populated class in y has only 1 members, which is less than n_splits=5.\n",
            "  warnings.warn(\n"
          ]
        }
      ]
    },
    {
      "cell_type": "code",
      "source": [
        "# Get best hyperparameters\n",
        "best_params = opt.best_params_\n",
        "\n",
        "# Create an SVM classifier with the best parameters\n",
        "best_svc_model = SVC(**best_params)\n",
        "\n",
        "# Fit the classifier on the training data\n",
        "best_svc_model.fit(train_X, train_y)\n",
        "\n",
        "# Predict on the test data\n",
        "best_svc_pred = best_svc_model.predict(val_X)\n",
        "\n",
        "# Evaluate the performance of the model\n",
        "print(\"Train Accuracy with best parameters:\", accuracy_score(train_y, best_svc_model.predict(train_X)))\n",
        "print(\"Test Accuracy with best parameters: \", accuracy_score(val_y, best_svc_pred))"
      ],
      "metadata": {
        "colab": {
          "base_uri": "https://localhost:8080/"
        },
        "id": "2YtGHCShztLO",
        "outputId": "0bfddc1d-980a-489e-e522-01c970d11b3e"
      },
      "execution_count": 53,
      "outputs": [
        {
          "output_type": "stream",
          "name": "stdout",
          "text": [
            "Train Accuracy with best parameters: 0.3333333333333333\n",
            "Test Accuracy with best parameters:  0.23529411764705882\n"
          ]
        }
      ]
    },
    {
      "cell_type": "code",
      "source": [
        "# mdl = RandomForestRegressor(criterion='friedman_mse')\n",
        "mdl=best_svc_model.fit(train_X, train_y)\n",
        "\n",
        "mdl.fit(train_X,train_y)\n",
        "pred1_y = mdl.predict(val_X)\n"
      ],
      "metadata": {
        "id": "96cwBIdm_GQZ"
      },
      "execution_count": 54,
      "outputs": []
    },
    {
      "cell_type": "code",
      "source": [
        "import pickle\n",
        "with open(\"../trainmlx.pkl\", \"wb\") as file:\n",
        "  pickle.dump(mdl,file)"
      ],
      "metadata": {
        "id": "f467QTe4QH5V"
      },
      "execution_count": 55,
      "outputs": []
    },
    {
      "cell_type": "code",
      "source": [],
      "metadata": {
        "id": "UQeN8n3RRPYw"
      },
      "execution_count": 55,
      "outputs": []
    }
  ]
}